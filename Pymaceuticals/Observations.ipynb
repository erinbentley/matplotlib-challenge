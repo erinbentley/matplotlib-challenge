{
 "cells": [
  {
   "cell_type": "markdown",
   "metadata": {},
   "source": [
    "Observations\n",
    "\n",
    "1. Of the 4 displayed, Capomulin is the only drug that appears to have significant impact on Tumor growth, metastatic rate, and survival rate. \n",
    "\n",
    "2. Infubinol acttually has a worse survivial rate than the Placebo, even though it seems to have some positive impact on metastatic growth. \n",
    "\n",
    "3. Ketapril had the worst results of the 4 displayed for both metastatic growth and tumor response. "
   ]
  },
  {
   "cell_type": "code",
   "execution_count": null,
   "metadata": {},
   "outputs": [],
   "source": []
  }
 ],
 "metadata": {
  "kernelspec": {
   "display_name": "class_env",
   "language": "python",
   "name": "class_env"
  },
  "language_info": {
   "codemirror_mode": {
    "name": "ipython",
    "version": 3
   },
   "file_extension": ".py",
   "mimetype": "text/x-python",
   "name": "python",
   "nbconvert_exporter": "python",
   "pygments_lexer": "ipython3",
   "version": "3.8.0"
  }
 },
 "nbformat": 4,
 "nbformat_minor": 4
}
